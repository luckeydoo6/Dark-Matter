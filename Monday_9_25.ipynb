{
  "nbformat": 4,
  "nbformat_minor": 0,
  "metadata": {
    "colab": {
      "provenance": [],
      "authorship_tag": "ABX9TyMAK58SjWYX5sQGAW17MuxD",
      "include_colab_link": true
    },
    "kernelspec": {
      "name": "python3",
      "display_name": "Python 3"
    },
    "language_info": {
      "name": "python"
    }
  },
  "cells": [
    {
      "cell_type": "markdown",
      "metadata": {
        "id": "view-in-github",
        "colab_type": "text"
      },
      "source": [
        "<a href=\"https://colab.research.google.com/github/luckeydoo6/Dark-Matter/blob/main/Monday_9_25.ipynb\" target=\"_parent\"><img src=\"https://colab.research.google.com/assets/colab-badge.svg\" alt=\"Open In Colab\"/></a>"
      ]
    },
    {
      "cell_type": "code",
      "execution_count": 1,
      "metadata": {
        "id": "dkX4oBiXK2Km"
      },
      "outputs": [],
      "source": [
        "import numpy as np\n",
        "import astropy.units as u\n",
        "import astropy.constants as ac"
      ]
    },
    {
      "cell_type": "code",
      "source": [
        "R_bh = (2*ac.G * u.solMass / ac.c**2)"
      ],
      "metadata": {
        "id": "Scp5uHMBLFOQ"
      },
      "execution_count": 5,
      "outputs": []
    },
    {
      "cell_type": "code",
      "source": [
        "print(\"The radius of a solar-mass black hole is\" , R_bh.to(u.km))"
      ],
      "metadata": {
        "colab": {
          "base_uri": "https://localhost:8080/"
        },
        "id": "wbq2lAwuLOvj",
        "outputId": "939a3913-23b3-470e-bf7c-3961c9dbe90b"
      },
      "execution_count": 6,
      "outputs": [
        {
          "output_type": "stream",
          "name": "stdout",
          "text": [
            "The radius of a solar-mass black hole is 2.95325007610025 km\n"
          ]
        }
      ]
    },
    {
      "cell_type": "code",
      "source": [
        "delta_t = 0.01 * u.second\n",
        "M_bh_total = (delta_t * ac.c**3) / (16 * np.pi * ac.G)\n",
        "print(\"Total mass of the two merging black holes is\",M_bh_total.to(u.solMass))"
      ],
      "metadata": {
        "colab": {
          "base_uri": "https://localhost:8080/"
        },
        "id": "9h-a2YTDLnSb",
        "outputId": "90693dc6-be82-491c-966e-13026d5ddbdd"
      },
      "execution_count": 8,
      "outputs": [
        {
          "output_type": "stream",
          "name": "stdout",
          "text": [
            "Total mass of the two merging black holes is 40.390629275268466 solMass\n"
          ]
        }
      ]
    },
    {
      "cell_type": "code",
      "source": [
        "h = 1e-21\n",
        "delta_Earth = 1 * u.earthRad * h\n",
        "print(\"deformation of Earth is\", delta_Earth.to(u.m))"
      ],
      "metadata": {
        "colab": {
          "base_uri": "https://localhost:8080/"
        },
        "id": "8HJyT0ewL0Rr",
        "outputId": "365f9d07-23c3-4c19-8631-5f1eea044dcc"
      },
      "execution_count": 9,
      "outputs": [
        {
          "output_type": "stream",
          "name": "stdout",
          "text": [
            "deformation of Earth is 6.378099999999999e-15 m\n"
          ]
        }
      ]
    },
    {
      "cell_type": "markdown",
      "source": [
        "h = R_bh / distance, so distance = R_bh / h"
      ],
      "metadata": {
        "id": "lhvjOVAgL36F"
      }
    },
    {
      "cell_type": "code",
      "source": [
        "R_bh = 2 * ac.G * 30 * u.solMass / (ac.c**2)\n",
        "D = R_bh / h\n",
        "print(\"distance of the black merger is\", D.to(1e6 * u.parsec))"
      ],
      "metadata": {
        "colab": {
          "base_uri": "https://localhost:8080/"
        },
        "id": "kqRTXY3JL-g5",
        "outputId": "60348729-1cf7-426e-d7ca-3ad9feb35d79"
      },
      "execution_count": 10,
      "outputs": [
        {
          "output_type": "stream",
          "name": "stdout",
          "text": [
            "distance of the black merger is 2871.249504952705 1e+06 pc\n"
          ]
        }
      ]
    }
  ]
}